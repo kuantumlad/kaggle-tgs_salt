{
 "cells": [
  {
   "cell_type": "code",
   "execution_count": 24,
   "metadata": {},
   "outputs": [
    {
     "name": "stderr",
     "output_type": "stream",
     "text": [
      "/home/kuantumlad/.local/lib/python2.7/site-packages/scipy/linalg/basic.py:17: RuntimeWarning: numpy.dtype size changed, may indicate binary incompatibility. Expected 96, got 88\n",
      "  from ._solve_toeplitz import levinson\n",
      "/home/kuantumlad/.local/lib/python2.7/site-packages/scipy/linalg/__init__.py:207: RuntimeWarning: numpy.dtype size changed, may indicate binary incompatibility. Expected 96, got 88\n",
      "  from ._decomp_update import *\n",
      "/home/kuantumlad/.local/lib/python2.7/site-packages/scipy/sparse/lil.py:19: RuntimeWarning: numpy.dtype size changed, may indicate binary incompatibility. Expected 96, got 88\n",
      "  from . import _csparsetools\n",
      "/home/kuantumlad/.local/lib/python2.7/site-packages/scipy/sparse/csgraph/__init__.py:165: RuntimeWarning: numpy.dtype size changed, may indicate binary incompatibility. Expected 96, got 88\n",
      "  from ._shortest_path import shortest_path, floyd_warshall, dijkstra,\\\n",
      "/home/kuantumlad/.local/lib/python2.7/site-packages/scipy/sparse/csgraph/_validation.py:5: RuntimeWarning: numpy.dtype size changed, may indicate binary incompatibility. Expected 96, got 88\n",
      "  from ._tools import csgraph_to_dense, csgraph_from_dense,\\\n",
      "/home/kuantumlad/.local/lib/python2.7/site-packages/scipy/sparse/csgraph/__init__.py:167: RuntimeWarning: numpy.dtype size changed, may indicate binary incompatibility. Expected 96, got 88\n",
      "  from ._traversal import breadth_first_order, depth_first_order, \\\n",
      "/home/kuantumlad/.local/lib/python2.7/site-packages/scipy/sparse/csgraph/__init__.py:169: RuntimeWarning: numpy.dtype size changed, may indicate binary incompatibility. Expected 96, got 88\n",
      "  from ._min_spanning_tree import minimum_spanning_tree\n",
      "/home/kuantumlad/.local/lib/python2.7/site-packages/scipy/sparse/csgraph/__init__.py:170: RuntimeWarning: numpy.dtype size changed, may indicate binary incompatibility. Expected 96, got 88\n",
      "  from ._reordering import reverse_cuthill_mckee, maximum_bipartite_matching, \\\n",
      "/home/kuantumlad/.local/lib/python2.7/site-packages/scipy/special/__init__.py:640: RuntimeWarning: numpy.dtype size changed, may indicate binary incompatibility. Expected 96, got 88\n",
      "  from ._ufuncs import *\n",
      "/home/kuantumlad/.local/lib/python2.7/site-packages/scipy/special/_ellip_harm.py:7: RuntimeWarning: numpy.dtype size changed, may indicate binary incompatibility. Expected 96, got 88\n",
      "  from ._ellip_harm_2 import _ellipsoid, _ellipsoid_norm\n",
      "/home/kuantumlad/.local/lib/python2.7/site-packages/scipy/interpolate/_bsplines.py:10: RuntimeWarning: numpy.dtype size changed, may indicate binary incompatibility. Expected 96, got 88\n",
      "  from . import _bspl\n",
      "/home/kuantumlad/.local/lib/python2.7/site-packages/scipy/spatial/__init__.py:95: RuntimeWarning: numpy.dtype size changed, may indicate binary incompatibility. Expected 96, got 88\n",
      "  from .ckdtree import *\n",
      "/home/kuantumlad/.local/lib/python2.7/site-packages/scipy/spatial/__init__.py:96: RuntimeWarning: numpy.dtype size changed, may indicate binary incompatibility. Expected 96, got 88\n",
      "  from .qhull import *\n",
      "/home/kuantumlad/.local/lib/python2.7/site-packages/scipy/spatial/_spherical_voronoi.py:18: RuntimeWarning: numpy.dtype size changed, may indicate binary incompatibility. Expected 96, got 88\n",
      "  from . import _voronoi\n",
      "/home/kuantumlad/.local/lib/python2.7/site-packages/scipy/spatial/distance.py:122: RuntimeWarning: numpy.dtype size changed, may indicate binary incompatibility. Expected 96, got 88\n",
      "  from . import _hausdorff\n",
      "/home/kuantumlad/.local/lib/python2.7/site-packages/scipy/ndimage/measurements.py:36: RuntimeWarning: numpy.dtype size changed, may indicate binary incompatibility. Expected 96, got 88\n",
      "  from . import _ni_label\n",
      "/home/kuantumlad/.local/lib/python2.7/site-packages/scipy/signal/_max_len_seq.py:8: RuntimeWarning: numpy.dtype size changed, may indicate binary incompatibility. Expected 96, got 88\n",
      "  from ._max_len_seq_inner import _max_len_seq_inner\n",
      "/home/kuantumlad/.local/lib/python2.7/site-packages/scipy/signal/_upfirdn.py:36: RuntimeWarning: numpy.dtype size changed, may indicate binary incompatibility. Expected 96, got 88\n",
      "  from ._upfirdn_apply import _output_len, _apply\n",
      "/home/kuantumlad/.local/lib/python2.7/site-packages/scipy/optimize/_trlib/__init__.py:1: RuntimeWarning: numpy.dtype size changed, may indicate binary incompatibility. Expected 96, got 88\n",
      "  from ._trlib import TRLIBQuadraticSubproblem\n",
      "/home/kuantumlad/.local/lib/python2.7/site-packages/scipy/optimize/_numdiff.py:10: RuntimeWarning: numpy.dtype size changed, may indicate binary incompatibility. Expected 96, got 88\n",
      "  from ._group_columns import group_dense, group_sparse\n",
      "/home/kuantumlad/.local/lib/python2.7/site-packages/scipy/signal/spectral.py:10: RuntimeWarning: numpy.dtype size changed, may indicate binary incompatibility. Expected 96, got 88\n",
      "  from ._spectral import _lombscargle\n",
      "/home/kuantumlad/.local/lib/python2.7/site-packages/scipy/stats/_continuous_distns.py:18: RuntimeWarning: numpy.dtype size changed, may indicate binary incompatibility. Expected 96, got 88\n",
      "  from . import _stats\n",
      "/home/kuantumlad/.local/lib/python2.7/site-packages/scipy/signal/_peak_finding.py:13: RuntimeWarning: numpy.dtype size changed, may indicate binary incompatibility. Expected 96, got 88\n",
      "  from ._peak_finding_utils import (_argmaxima1d, _select_by_peak_distance,\n"
     ]
    }
   ],
   "source": [
    "# TGS Machine Learning Notebook\n",
    "# Created by Brandon Clary\n",
    "# 8/15/2016\n",
    "\n",
    "import os\n",
    "import cv2\n",
    "import numpy as np\n",
    "import pandas as pd\n",
    "import matplotlib.pyplot as plt\n",
    "from skimage.transform import resize\n",
    "%matplotlib inline"
   ]
  },
  {
   "cell_type": "code",
   "execution_count": 2,
   "metadata": {},
   "outputs": [],
   "source": [
    "ABS_INPUT_PATH = '/home/kuantumlad/Documents/projects/kaggle/kaggle-tgs_salt/input/'\n",
    "TEST_PATH = 'test/'\n",
    "TRAIN_PATH = 'train/'\n",
    "MASKS_PATH = 'masks/'\n",
    "IMAGES_PATH = 'images/'\n",
    "DEPTH_PATH = ABS_INPUT_PATH + TRAIN_PATH + 'depths.csv'"
   ]
  },
  {
   "cell_type": "code",
   "execution_count": 3,
   "metadata": {},
   "outputs": [],
   "source": [
    "def getTrainImageNames():\n",
    "    path_to_train =  ABS_INPUT_PATH + TRAIN_PATH + IMAGES_PATH\n",
    "    return sorted(next(os.walk(path_to_train))[2])"
   ]
  },
  {
   "cell_type": "code",
   "execution_count": 4,
   "metadata": {},
   "outputs": [],
   "source": [
    "def getTrainMaskNames():\n",
    "    return sorted(next(os.walk(ABS_INPUT_PATH + TRAIN_PATH + MASKS_PATH))[2])"
   ]
  },
  {
   "cell_type": "code",
   "execution_count": 59,
   "metadata": {},
   "outputs": [],
   "source": [
    "#depth is defined as \"The value of the depth corresponds to the center of the image.\"\n",
    "def getImageDataDict():\n",
    "    depth_of_images = {}\n",
    "    with open(DEPTH_PATH, 'r') as f:\n",
    "        x = f.read().splitlines()\n",
    "        for line in x:\n",
    "            image_name = line.split(',')[0]\n",
    "            depth_to_center_of_image =  line.split(',')[1]\n",
    "            depth_of_images[image_name] = depth_to_center_of_image\n",
    "    return depth_of_images"
   ]
  },
  {
   "cell_type": "code",
   "execution_count": 60,
   "metadata": {},
   "outputs": [],
   "source": [
    "def resizeImage(temp_image_array, new_dimensions):\n",
    "    if( temp_image_array.shape == new_dimensions):\n",
    "        return temp_image_array\n",
    "    else:\n",
    "        return resize(temp_image_array, new_dimensions, mode = 'constant', preserve_range=True)"
   ]
  },
  {
   "cell_type": "code",
   "execution_count": 61,
   "metadata": {},
   "outputs": [],
   "source": [
    "def imageToArray(temp_image):\n",
    "    return np.array(temp_image)[:,:,1]"
   ]
  },
  {
   "cell_type": "code",
   "execution_count": 62,
   "metadata": {},
   "outputs": [],
   "source": [
    "def getImage(temp_path_to_image):\n",
    "    return cv2.imread(temp_path_to_image)"
   ]
  },
  {
   "cell_type": "code",
   "execution_count": 70,
   "metadata": {},
   "outputs": [],
   "source": [
    "def getTrainingData(x_train_path, y_train_path, img_type = '.png', RESIZE = (128,128,1)):\n",
    "    print 'Splitting training data into numpy array for iamges and masks'\n",
    "    n_training_entries = len(getTrainImageNames())\n",
    "    X_train = np.zeros( (n_training_entries, RESIZE[0], RESIZE[1], 1), dtype = np.uint8 )\n",
    "    Y_train = np.zeros( (n_training_entries, RESIZE[0], RESIZE[1], 1), dtype = np.uint8 )\n",
    "    for i, x in enumerate(getTrainImageNames()):\n",
    "        X_train[i] = resizeImage(imageToArray(getImage(x_train_path+x)),RESIZE)\n",
    "        Y_train[i] = resizeImage(imageToArray(getImage(y_train_path+x)),RESIZE)\n",
    "    print '>> DONE '\n",
    "    return X_train, Y_train"
   ]
  },
  {
   "cell_type": "code",
   "execution_count": 73,
   "metadata": {},
   "outputs": [],
   "source": [
    "def checkTrainingData():\n",
    "    #write function to check the the formed training images and masks before sending to UNET\n",
    "    print 'plots here'"
   ]
  },
  {
   "cell_type": "code",
   "execution_count": 71,
   "metadata": {},
   "outputs": [
    {
     "name": "stdout",
     "output_type": "stream",
     "text": [
      "Splitting training data into numpy array for iamges and masks\n",
      ">> DONE \n"
     ]
    }
   ],
   "source": [
    "x_train_path = ABS_INPUT_PATH + TRAIN_PATH + IMAGES_PATH\n",
    "y_train_path = ABS_INPUT_PATH + TRAIN_PATH + MASKS_PATH\n",
    "X_train, Y_train = getTrainingData(x_train_path, y_train_path)"
   ]
  },
  {
   "cell_type": "code",
   "execution_count": null,
   "metadata": {},
   "outputs": [],
   "source": []
  }
 ],
 "metadata": {
  "kernelspec": {
   "display_name": "Python 2",
   "language": "python",
   "name": "python2"
  },
  "language_info": {
   "codemirror_mode": {
    "name": "ipython",
    "version": 2
   },
   "file_extension": ".py",
   "mimetype": "text/x-python",
   "name": "python",
   "nbconvert_exporter": "python",
   "pygments_lexer": "ipython2",
   "version": "2.7.15rc1"
  }
 },
 "nbformat": 4,
 "nbformat_minor": 2
}
