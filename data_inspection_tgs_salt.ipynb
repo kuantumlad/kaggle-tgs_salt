{
 "cells": [
  {
   "cell_type": "code",
   "execution_count": 2,
   "metadata": {
    "collapsed": false
   },
   "outputs": [
    {
     "name": "stderr",
     "output_type": "stream",
     "text": [
      "Using TensorFlow backend.\n"
     ]
    },
    {
     "name": "stdout",
     "output_type": "stream",
     "text": [
      "[name: \"/device:CPU:0\"\n",
      "device_type: \"CPU\"\n",
      "memory_limit: 268435456\n",
      "locality {\n",
      "}\n",
      "incarnation: 7966403262585749699\n",
      "]\n"
     ]
    }
   ],
   "source": [
    "import os\n",
    "import sys\n",
    "import random\n",
    "import warnings\n",
    "\n",
    "import pandas as pd\n",
    "import numpy as np\n",
    "import matplotlib.pyplot as plt\n",
    "%matplotlib inline\n",
    "\n",
    "import cv2\n",
    "\n",
    "from tqdm import tqdm_notebook, tnrange\n",
    "from itertools import chain\n",
    "from skimage.io import imread, imshow, concatenate_images\n",
    "from skimage.transform import resize\n",
    "from skimage.morphology import label\n",
    "\n",
    "from keras.preprocessing.image import ImageDataGenerator, array_to_img, img_to_array, load_img\n",
    "\n",
    "from PIL import Image\n",
    "import tensorflow as tf\n",
    "\n",
    "\n",
    "from tensorflow.python.client import device_lib\n",
    "print(device_lib.list_local_devices())"
   ]
  },
  {
   "cell_type": "code",
   "execution_count": 10,
   "metadata": {
    "collapsed": true
   },
   "outputs": [],
   "source": [
    "def salt_pepper(original_image):\n",
    "    row = original_image.shape[0]\n",
    "    col = original_image.shape[1]\n",
    "    \n",
    "    #print row\n",
    "    #print col\n",
    "    for i in range(row):\n",
    "        for j in range(col):            \n",
    "            pix = original_image[i,j]            \n",
    "            alter = np.random.randint(10)\n",
    "            \n",
    "            if alter < 2:\n",
    "                    #continue\n",
    "                original_image[i,j] = pix\n",
    "            if alter == 1:                        \n",
    "                set_salt_pepper = np.random.randint(2)                        \n",
    "                if set_salt_pepper == 1:\n",
    "                    original_image[i,j] = [255,255,255]\n",
    "                if set_salt_pepper == 0:\n",
    "                    original_image[i,j] = [0,0,0]\n",
    "            #print original_image[i,j]\n",
    "    sp_image = original_image\n",
    "    return sp_image"
   ]
  },
  {
   "cell_type": "code",
   "execution_count": 4,
   "metadata": {
    "collapsed": true
   },
   "outputs": [],
   "source": [
    "def avg_gray(original_image):\n",
    "    row = original_image.shape[0]\n",
    "    col = original_image.shape[1]\n",
    "    \n",
    "    rgb_avg = 0\n",
    "    \n",
    "    for i in range(row):\n",
    "        for j in range(col):            \n",
    "            pix = original_image[i,j]\n",
    "            rgb_avg = rgb_avg + (pix[0] + pix[1] + pix[2])/3\n",
    "     \n",
    "    for i in range(row):\n",
    "        for j in range(col):\n",
    "            original_image[i,j] =  original_image[i,j] - rgb_avg\n",
    "            if original_image[i,j][0] < 0:\n",
    "                original_image[i,j] = [0,0,0]\n",
    "            if original_image[i,j][0] > 255:\n",
    "                original_image[i,j] = [255,255,255]\n",
    "            \n",
    "    copy_img = original_image\n",
    "    \n",
    "    return copy_img"
   ]
  },
  {
   "cell_type": "code",
   "execution_count": 11,
   "metadata": {
    "collapsed": true
   },
   "outputs": [],
   "source": [
    "def filterBlur(temp_image):\n",
    "    return cv2.blur(temp_image,(5,5))\n",
    "\n",
    "def filterGaus(temp_image):\n",
    "    return cv2.GaussianBlur(temp_image,(5,5),0)\n",
    "\n",
    "def filterMedianBlur(temp_image):\n",
    "    return cv2.medianBlur(temp_image,5)\n",
    "\n",
    "def filterBilater(temp_image):\n",
    "    return cv2.bilateralFilter(temp_image,9,75,75)  \n",
    "\n",
    "def filterLaplacian(temp_image):\n",
    "    return cv2.Laplacian(temp_image,cv2.CV_64F)\n",
    "\n",
    "def filterCanny(temp_image):\n",
    "    return cv2.Canny(temp_image,100,200)\n",
    "\n",
    "def chooseFilter(filter_type, temp_img):\n",
    "    if filter_type == 0:\n",
    "        return filterBlur(temp_img)\n",
    "    if filter_type == 1:\n",
    "        return filterGaus(temp_img)\n",
    "    if filter_type == 2:\n",
    "        return filterMedianBlur(temp_img)\n",
    "    if filter_type == 3:\n",
    "        return filterBilater(temp_img)\n",
    "    if filter_type == 4:\n",
    "        return filterLaplacian(temp_img)\n",
    "    if filter_type == 5:\n",
    "        return filterCanny(temp_img)\n",
    "    if filter_type == 6:\n",
    "        return salt_pepper(temp_img)"
   ]
  },
  {
   "cell_type": "code",
   "execution_count": 12,
   "metadata": {
    "collapsed": false
   },
   "outputs": [
    {
     "ename": "error",
     "evalue": "OpenCV(3.4.2) /Users/travis/build/skvark/opencv-python/opencv/modules/core/src/matrix.cpp:755: error: (-215:Assertion failed) dims <= 2 && step[0] > 0 in function 'locateROI'\n",
     "output_type": "error",
     "traceback": [
      "\u001b[0;31m---------------------------------------------------------------------------\u001b[0m",
      "\u001b[0;31merror\u001b[0m                                     Traceback (most recent call last)",
      "\u001b[0;32m<ipython-input-12-96aad215c8d8>\u001b[0m in \u001b[0;36m<module>\u001b[0;34m()\u001b[0m\n\u001b[1;32m     24\u001b[0m     \u001b[0mmask\u001b[0m \u001b[0;34m=\u001b[0m \u001b[0mcv2\u001b[0m\u001b[0;34m.\u001b[0m\u001b[0mimread\u001b[0m\u001b[0;34m(\u001b[0m\u001b[0mabs_path\u001b[0m \u001b[0;34m+\u001b[0m \u001b[0;34m'/train/masks/'\u001b[0m \u001b[0;34m+\u001b[0m \u001b[0mimg_name\u001b[0m \u001b[0;34m+\u001b[0m \u001b[0;34m'.png'\u001b[0m\u001b[0;34m)\u001b[0m\u001b[0;34m\u001b[0m\u001b[0m\n\u001b[1;32m     25\u001b[0m \u001b[0;34m\u001b[0m\u001b[0m\n\u001b[0;32m---> 26\u001b[0;31m     \u001b[0mblur\u001b[0m \u001b[0;34m=\u001b[0m \u001b[0mfilterBlur\u001b[0m\u001b[0;34m(\u001b[0m\u001b[0mimg\u001b[0m\u001b[0;34m)\u001b[0m \u001b[0;31m#cv2.blur(img,(5,5))\u001b[0m\u001b[0;34m\u001b[0m\u001b[0m\n\u001b[0m\u001b[1;32m     27\u001b[0m     \u001b[0mgaus_blur\u001b[0m \u001b[0;34m=\u001b[0m \u001b[0mcv2\u001b[0m\u001b[0;34m.\u001b[0m\u001b[0mGaussianBlur\u001b[0m\u001b[0;34m(\u001b[0m\u001b[0mimg\u001b[0m\u001b[0;34m,\u001b[0m\u001b[0;34m(\u001b[0m\u001b[0;36m5\u001b[0m\u001b[0;34m,\u001b[0m\u001b[0;36m5\u001b[0m\u001b[0;34m)\u001b[0m\u001b[0;34m,\u001b[0m\u001b[0;36m0\u001b[0m\u001b[0;34m)\u001b[0m\u001b[0;34m\u001b[0m\u001b[0m\n\u001b[1;32m     28\u001b[0m     \u001b[0mmedian\u001b[0m \u001b[0;34m=\u001b[0m \u001b[0mcv2\u001b[0m\u001b[0;34m.\u001b[0m\u001b[0mmedianBlur\u001b[0m\u001b[0;34m(\u001b[0m\u001b[0mimg\u001b[0m\u001b[0;34m,\u001b[0m\u001b[0;36m5\u001b[0m\u001b[0;34m)\u001b[0m\u001b[0;34m\u001b[0m\u001b[0m\n",
      "\u001b[0;32m<ipython-input-11-c5b7873d028b>\u001b[0m in \u001b[0;36mfilterBlur\u001b[0;34m(temp_image)\u001b[0m\n\u001b[1;32m      1\u001b[0m \u001b[0;32mdef\u001b[0m \u001b[0mfilterBlur\u001b[0m\u001b[0;34m(\u001b[0m\u001b[0mtemp_image\u001b[0m\u001b[0;34m)\u001b[0m\u001b[0;34m:\u001b[0m\u001b[0;34m\u001b[0m\u001b[0m\n\u001b[0;32m----> 2\u001b[0;31m     \u001b[0;32mreturn\u001b[0m \u001b[0mcv2\u001b[0m\u001b[0;34m.\u001b[0m\u001b[0mblur\u001b[0m\u001b[0;34m(\u001b[0m\u001b[0mtemp_image\u001b[0m\u001b[0;34m,\u001b[0m\u001b[0;34m(\u001b[0m\u001b[0;36m5\u001b[0m\u001b[0;34m,\u001b[0m\u001b[0;36m5\u001b[0m\u001b[0;34m)\u001b[0m\u001b[0;34m)\u001b[0m\u001b[0;34m\u001b[0m\u001b[0m\n\u001b[0m\u001b[1;32m      3\u001b[0m \u001b[0;34m\u001b[0m\u001b[0m\n\u001b[1;32m      4\u001b[0m \u001b[0;32mdef\u001b[0m \u001b[0mfilterGaus\u001b[0m\u001b[0;34m(\u001b[0m\u001b[0mtemp_image\u001b[0m\u001b[0;34m)\u001b[0m\u001b[0;34m:\u001b[0m\u001b[0;34m\u001b[0m\u001b[0m\n\u001b[1;32m      5\u001b[0m     \u001b[0;32mreturn\u001b[0m \u001b[0mcv2\u001b[0m\u001b[0;34m.\u001b[0m\u001b[0mGaussianBlur\u001b[0m\u001b[0;34m(\u001b[0m\u001b[0mtemp_image\u001b[0m\u001b[0;34m,\u001b[0m\u001b[0;34m(\u001b[0m\u001b[0;36m5\u001b[0m\u001b[0;34m,\u001b[0m\u001b[0;36m5\u001b[0m\u001b[0;34m)\u001b[0m\u001b[0;34m,\u001b[0m\u001b[0;36m0\u001b[0m\u001b[0;34m)\u001b[0m\u001b[0;34m\u001b[0m\u001b[0m\n",
      "\u001b[0;31merror\u001b[0m: OpenCV(3.4.2) /Users/travis/build/skvark/opencv-python/opencv/modules/core/src/matrix.cpp:755: error: (-215:Assertion failed) dims <= 2 && step[0] > 0 in function 'locateROI'\n"
     ]
    },
    {
     "data": {
      "text/plain": [
       "<matplotlib.figure.Figure at 0x12f76a590>"
      ]
     },
     "metadata": {},
     "output_type": "display_data"
    }
   ],
   "source": [
    "# Set some parameters\n",
    "im_width = 128\n",
    "im_height = 128\n",
    "im_chan = 1\n",
    "abs_path = '/home/kuantumlad/Documents/projects/kaggle/kaggle-tgs_salt/input'\n",
    "path_train = abs_path + '/train/'\n",
    "path_test = abs_path + '/test/'\n",
    "\n",
    "ids= ['1f1cc6b3a4','5b7c160d0d','6c40978ddf','7dfdf6eeb8','7e5a6e5013']\n",
    "plt.figure(figsize=(50,50))\n",
    "\n",
    "row = 0\n",
    "col = 0\n",
    "\n",
    "n_filters = 9\n",
    "\n",
    "filter_results = []\n",
    "\n",
    "for j, img_name in enumerate(ids):\n",
    "\n",
    "    filter_list = []\n",
    "    \n",
    "    img = cv2.imread(abs_path + '/train/images/' + img_name + '.png')\n",
    "    mask = cv2.imread(abs_path + '/train/masks/' + img_name + '.png')\n",
    "    \n",
    "    blur = filterBlur(img) #cv2.blur(img,(5,5))\n",
    "    gaus_blur = cv2.GaussianBlur(img,(5,5),0)\n",
    "    median = cv2.medianBlur(img,5)\n",
    "    bilFilter = cv2.bilateralFilter(img,9,75,75)    \n",
    "    sp = salt_pepper(img)\n",
    "    \n",
    "    lap = cv2.Laplacian(img,cv2.CV_64F)\n",
    "    sobelx = cv2.Sobel(img,cv2.CV_64F,1,0,ksize=9)\n",
    "    sobely = cv2.Sobel(img,cv2.CV_64F,0,1,ksize=9)\n",
    "    edges = cv2.Canny(img,100,200)\n",
    "    #shift_gray = avg_gray(img)\n",
    "        \n",
    "    filter_list.append(blur)\n",
    "    filter_list.append(gaus_blur)\n",
    "    filter_list.append(median)\n",
    "    filter_list.append(bilFilter)\n",
    "    filter_list.append(sp)\n",
    "    filter_list.append(lap)\n",
    "    filter_list.append(sobelx)\n",
    "    filter_list.append(sobely)\n",
    "    filter_list.append(edges)\n",
    "    \n",
    "\n",
    "    filter_results.append(filter_list)"
   ]
  },
  {
   "cell_type": "code",
   "execution_count": 13,
   "metadata": {
    "collapsed": false
   },
   "outputs": [
    {
     "ename": "IndexError",
     "evalue": "list index out of range",
     "output_type": "error",
     "traceback": [
      "\u001b[0;31m---------------------------------------------------------------------------\u001b[0m",
      "\u001b[0;31mIndexError\u001b[0m                                Traceback (most recent call last)",
      "\u001b[0;32m<ipython-input-13-e6958c0bbe37>\u001b[0m in \u001b[0;36m<module>\u001b[0;34m()\u001b[0m\n\u001b[1;32m      5\u001b[0m \u001b[0mf\u001b[0m\u001b[0;34m,\u001b[0m \u001b[0maxarr\u001b[0m \u001b[0;34m=\u001b[0m \u001b[0mplt\u001b[0m\u001b[0;34m.\u001b[0m\u001b[0msubplots\u001b[0m\u001b[0;34m(\u001b[0m\u001b[0;36m5\u001b[0m\u001b[0;34m,\u001b[0m\u001b[0mn_filters\u001b[0m\u001b[0;34m)\u001b[0m\u001b[0;34m\u001b[0m\u001b[0m\n\u001b[1;32m      6\u001b[0m \u001b[0;32mfor\u001b[0m \u001b[0mi\u001b[0m \u001b[0;32min\u001b[0m \u001b[0mrange\u001b[0m\u001b[0;34m(\u001b[0m\u001b[0mrow\u001b[0m\u001b[0;34m)\u001b[0m\u001b[0;34m:\u001b[0m\u001b[0;34m\u001b[0m\u001b[0m\n\u001b[0;32m----> 7\u001b[0;31m     \u001b[0mpic_list\u001b[0m \u001b[0;34m=\u001b[0m \u001b[0mfilter_results\u001b[0m\u001b[0;34m[\u001b[0m\u001b[0mi\u001b[0m\u001b[0;34m]\u001b[0m\u001b[0;34m\u001b[0m\u001b[0m\n\u001b[0m\u001b[1;32m      8\u001b[0m     \u001b[0;32mfor\u001b[0m \u001b[0mj\u001b[0m \u001b[0;32min\u001b[0m \u001b[0mrange\u001b[0m\u001b[0;34m(\u001b[0m\u001b[0mcol\u001b[0m\u001b[0;34m)\u001b[0m\u001b[0;34m:\u001b[0m\u001b[0;34m\u001b[0m\u001b[0m\n\u001b[1;32m      9\u001b[0m         \u001b[0;31m#plt.imshow( pic_list[j], 'test')\u001b[0m\u001b[0;34m\u001b[0m\u001b[0;34m\u001b[0m\u001b[0m\n",
      "\u001b[0;31mIndexError\u001b[0m: list index out of range"
     ]
    },
    {
     "data": {
      "image/png": "[encoded data removed]",
      "text/plain": [
       "<matplotlib.figure.Figure at 0x13313b6d0>"
      ]
     },
     "metadata": {},
     "output_type": "display_data"
    }
   ],
   "source": [
    "i = 0\n",
    "row = 5\n",
    "col = n_filters\n",
    "\n",
    "f, axarr = plt.subplots(5,n_filters)\n",
    "for i in range(row):\n",
    "    pic_list = filter_results[i]\n",
    "    for j in range(col):\n",
    "        #plt.imshow( pic_list[j], 'test')\n",
    "        \n",
    "        plt.xticks([]), plt.yticks([])\n",
    "        axarr[i,j].imshow(pic_list[j])\n",
    "        print pic_list[j]\n",
    "        \n",
    "        if j == 8 :\n",
    "            axarr[i,j].imshow(pic_list[j], cmap = 'gray')\n",
    "            plt.xticks([]), plt.yticks([])"
   ]
  },
  {
   "cell_type": "code",
   "execution_count": null,
   "metadata": {
    "collapsed": false
   },
   "outputs": [],
   "source": [
    "# testing application of method to augment the original image and mask\n",
    "im_width = 128\n",
    "im_height = 128\n",
    "train_ids = next(os.walk(path_train+\"images\"))[2]\n",
    "print train_ids\n",
    "X_train = np.zeros((len(train_ids), im_height, im_width, im_chan), dtype=np.uint8)\n",
    "Y_train = np.zeros((len(train_ids), im_height, im_width, 1), dtype=np.bool)\n",
    "for n, id_ in tqdm_notebook(enumerate(train_ids), total=len(train_ids)):\n",
    "    path = path_train\n",
    "    #img = load_img(path + '/images/' + id_)\n",
    "    \n",
    "    img_in = cv2.imread(path + '/images/' + id_)#abs_path + '/train/images/' + img_name + '.png')\n",
    "    img = chooseFilter(5,img_in)\n",
    "    \n",
    "    #x = np.array(img)[:,:,1]\n",
    "    x = resize(x,(128,128,1),mode = 'constant', preserve_range=True)\n",
    "    \n",
    "    X_train[n] = x    \n",
    "\n",
    "    mask_in = cv2.imread(path + '/masks/' + id_)\n",
    "    mask = chooseFilter(5, mask_in)\n",
    "    y = np.array(mask) #load_img(path + '/masks/' + id_))[:,:,1]\n",
    "    Y_train[n] = resize(y, (128, 128, 1), mode='constant', preserve_range=True)\n"
   ]
  },
  {
   "cell_type": "code",
   "execution_count": null,
   "metadata": {
    "collapsed": false
   },
   "outputs": [],
   "source": [
    "# Check if training data looks all right\n",
    "ix = random.randint(0, len(train_ids))\n",
    "\n",
    "f, axarr = plt.subplots(1,2)\n",
    "axarr[0].imshow(np.dstack((X_train[ix],X_train[ix],X_train[ix])))\n",
    "plt.xticks([]), plt.yticks([])\n",
    "tmp = np.squeeze(Y_train[ix]).astype(np.float32)\n",
    "axarr[1].imshow(tmp)\n",
    "plt.show()"
   ]
  },
  {
   "cell_type": "code",
   "execution_count": null,
   "metadata": {
    "collapsed": true
   },
   "outputs": [],
   "source": []
  },
  {
   "cell_type": "code",
   "execution_count": null,
   "metadata": {
    "collapsed": true
   },
   "outputs": [],
   "source": []
  }
 ],
 "metadata": {
  "kernelspec": {
   "display_name": "Python 2",
   "language": "python",
   "name": "python2"
  },
  "language_info": {
   "codemirror_mode": {
    "name": "ipython",
    "version": 2
   },
   "file_extension": ".py",
   "mimetype": "text/x-python",
   "name": "python",
   "nbconvert_exporter": "python",
   "pygments_lexer": "ipython2",
   "version": "2.7.13"
  }
 },
 "nbformat": 4,
 "nbformat_minor": 2
}
